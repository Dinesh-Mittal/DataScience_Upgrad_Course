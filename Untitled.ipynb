{
 "cells": [
  {
   "cell_type": "code",
   "execution_count": 3,
   "metadata": {},
   "outputs": [
    {
     "name": "stdout",
     "output_type": "stream",
     "text": [
      "[1, 3, 5, 13, 145]\n"
     ]
    }
   ],
   "source": [
    "\n",
    "\n",
    "# a list contains both even and odd numbers.  \n",
    "seq = [0, 1, 2, 3, 5, 8, 13,145,0] \n",
    "  \n",
    "# result contains odd numbers of the list \n",
    "result = filter(lambda x: x % 2, seq) \n",
    "\n",
    "#x = list(result)\n",
    "print(list(result))"
   ]
  },
  {
   "cell_type": "code",
   "execution_count": 13,
   "metadata": {},
   "outputs": [
    {
     "name": "stdout",
     "output_type": "stream",
     "text": [
      "6\n",
      "0\n"
     ]
    }
   ],
   "source": [
    "# Given a string s, you have to find the count of numbers(0-9) and alphabets(a-z, A-Z) in it. \n",
    "\n",
    "input = \"MM@gMMM\"\n",
    "\n",
    "chars = [x for x in input if(x.isalpha())]\n",
    "nums = [x for x in input if(x.isnumeric())]\n",
    "\n",
    "print(len(chars))\n",
    "print(len(nums))"
   ]
  },
  {
   "cell_type": "code",
   "execution_count": 16,
   "metadata": {},
   "outputs": [
    {
     "name": "stdout",
     "output_type": "stream",
     "text": [
      "5\n",
      "8\n"
     ]
    }
   ],
   "source": [
    "import os, ast\n",
    "\n",
    "s=\"09380329@fdjks\"# the string to check\n",
    "#Write your code here\n",
    "chars = [x for x in s if(x.isalpha())]\n",
    "nums = [x for x in s if(x.isnumeric())]\n",
    "\n",
    "print(len(chars))\n",
    "print(len(nums))"
   ]
  },
  {
   "cell_type": "code",
   "execution_count": 30,
   "metadata": {},
   "outputs": [
    {
     "name": "stdout",
     "output_type": "stream",
     "text": [
      "DKJFLkjDJFffg\n"
     ]
    }
   ],
   "source": [
    "#Given a string containing both lowercase and uppercase alphabets, your task is to swap the case of each letter.\n",
    "\n",
    "s = \"dkjflKJdjfFFG\"\n",
    "\n",
    "s = s.swapcase()\n",
    "\n",
    "print(s)"
   ]
  },
  {
   "cell_type": "code",
   "execution_count": 33,
   "metadata": {},
   "outputs": [
    {
     "name": "stdout",
     "output_type": "stream",
     "text": [
      "[[4, 3, 1], [9, 9, 3], [5, 7, 0], [8, 2, 4]]\n"
     ]
    }
   ],
   "source": [
    "import pandas as pd\n",
    "#Exchange Rows\n",
    "list1 = [[4,3,1], \n",
    "    [5,7,0] ,\n",
    "    [9,9,3] ,\n",
    "    [8, 2, 4]]\n",
    "\n",
    "#b = pd.DataFrame (list1)\n",
    "\n",
    "#m,n = b.iloc[[2]].copy(),b.iloc[[1]].copy()\n",
    "\n",
    "#print(m)\n",
    "\n",
    "#print(n)\n",
    "\n",
    "list1[2], list1[1] =list1[1],list1[2]\n",
    "\n",
    "print(list1)"
   ]
  },
  {
   "cell_type": "code",
   "execution_count": 60,
   "metadata": {},
   "outputs": [
    {
     "name": "stdout",
     "output_type": "stream",
     "text": [
      "0 c1 c2 c3\n",
      "1  1  2  3\n",
      "2  4  5  6\n",
      "3  7  8  9\n"
     ]
    }
   ],
   "source": [
    "#Convert one row as column headers\n",
    "import pandas as pd\n",
    "list1 = [['c1','c2','c3'],[1,2,3],[4,5,6],[7,8,9]]\n",
    "\n",
    "df = pd.DataFrame(list1)\n",
    "\n",
    "df.columns = df.iloc[0]\n",
    "\n",
    "df = df.reindex(df.index.drop(0))\n",
    "#df = df.drop(0)\n",
    "#df = df.reindex()\n",
    "\n",
    "print(df)"
   ]
  },
  {
   "cell_type": "code",
   "execution_count": 76,
   "metadata": {},
   "outputs": [
    {
     "name": "stdout",
     "output_type": "stream",
     "text": [
      "Cddfghjkl\n"
     ]
    }
   ],
   "source": [
    "'''\n",
    "Given a string, you have to find the longest substring in alphabetical order \n",
    "where the string can have both lowercase and uppercase characters.\n",
    "'''\n",
    "\n",
    "str = 'zbUICddfghjkl'\n",
    "\n",
    "prevchar = ''\n",
    "longest = ''\n",
    "current = ''\n",
    "\n",
    "\n",
    "for char in str:\n",
    "    if(char.lower() >= prevchar.lower()):\n",
    "        current += char\n",
    "        if(len(current) > len(longest)):\n",
    "            longest = current\n",
    "    else:\n",
    "        current = char\n",
    "    prevchar = char\n",
    "        \n",
    "print(longest)\n",
    "\n",
    "\n"
   ]
  },
  {
   "cell_type": "code",
   "execution_count": null,
   "metadata": {},
   "outputs": [],
   "source": []
  },
  {
   "cell_type": "code",
   "execution_count": null,
   "metadata": {},
   "outputs": [],
   "source": []
  },
  {
   "cell_type": "code",
   "execution_count": null,
   "metadata": {},
   "outputs": [],
   "source": []
  }
 ],
 "metadata": {
  "kernelspec": {
   "display_name": "Python 3",
   "language": "python",
   "name": "python3"
  },
  "language_info": {
   "codemirror_mode": {
    "name": "ipython",
    "version": 3
   },
   "file_extension": ".py",
   "mimetype": "text/x-python",
   "name": "python",
   "nbconvert_exporter": "python",
   "pygments_lexer": "ipython3",
   "version": "3.7.1"
  }
 },
 "nbformat": 4,
 "nbformat_minor": 2
}
